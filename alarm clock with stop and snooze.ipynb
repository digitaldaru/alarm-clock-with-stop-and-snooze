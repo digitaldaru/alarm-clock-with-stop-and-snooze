{
 "cells": [
  {
   "cell_type": "code",
   "execution_count": 23,
   "metadata": {},
   "outputs": [
    {
     "name": "stdout",
     "output_type": "stream",
     "text": [
      "Enter the Date = 14/03/2021\n",
      "Enter the Time = 11:47:00\n",
      "\n",
      "Alarm Ringing......\n",
      "\n",
      "\n",
      "Choose the Number\n",
      "1. Snooze\n",
      "2. Stop\n",
      "Enter the Number = 1\n",
      "\n",
      "Choose the Number\n",
      "1. Snooze\n",
      "2. Stop\n",
      "Enter the Number = 2\n"
     ]
    }
   ],
   "source": [
    "import os\n",
    "import datetime\n",
    "import time\n",
    "from pygame import mixer \n",
    "from time import sleep  \n",
    "\n",
    "\n",
    "n=1\n",
    "c,b,a=input(\"Enter the Date = \").split(\"/\")\n",
    "hr, minn , sec =input(\"Enter the Time = \").split( \":\" )\n",
    "shedule_date =datetime.date(int(a),int(b),int(c))\n",
    "while n>0:\n",
    "    if time.localtime().tm_hour==int(hr) and time.localtime().tm_min==int(minn) and time.localtime().tm_sec==int(sec) and datetime.date.today()==shedule_date:\n",
    "        mixer.init() \n",
    "        mixer.music.load(\"AUD-20201223-WA0011.mp3\") \n",
    "        mixer.music.set_volume(0.7)\n",
    "        mixer.music.play() \n",
    "        print(\"\\nAlarm Ringing......\\n\")\n",
    "\n",
    "        while n>0:\n",
    "            stop_snooze = int(input(\"\\nChoose the Number\\n1. Snooze\\n2. Stop\\nEnter the Number = \"))\n",
    "            if stop_snooze == 1:\n",
    "                mixer.music.stop()\n",
    "                sleep(5*60)  # 5 Means 5 min and 60 for 60seconds\n",
    "                mixer.music.play()\n",
    "            elif stop_snooze == 2:\n",
    "                mixer.music.stop()\n",
    "                break\n",
    "        break        \n",
    "else:\n",
    "    n+=1"
   ]
  }
 ],
 "metadata": {
  "kernelspec": {
   "display_name": "Python 3",
   "language": "python",
   "name": "python3"
  },
  "language_info": {
   "codemirror_mode": {
    "name": "ipython",
    "version": 3
   },
   "file_extension": ".py",
   "mimetype": "text/x-python",
   "name": "python",
   "nbconvert_exporter": "python",
   "pygments_lexer": "ipython3",
   "version": "3.8.3"
  }
 },
 "nbformat": 4,
 "nbformat_minor": 4
}
